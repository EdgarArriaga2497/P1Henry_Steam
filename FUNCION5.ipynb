{
 "cells": [
  {
   "cell_type": "markdown",
   "metadata": {},
   "source": [
    "+ def **developer_reviews_analysis( *`desarrolladora` : str* )**:\n",
    "    Según el desarrollador, se devuelve un diccionario con el nombre del desarrollador como llave y una lista con la cantidad total \n",
    "    de registros de reseñas de usuarios que se encuentren categorizados con un análisis de sentimiento como valor positivo o negativo. \n",
    "\n",
    "Ejemplo de retorno: {'Valve' : [Negative = 182, Positive = 278]}"
   ]
  },
  {
   "cell_type": "code",
   "execution_count": 1,
   "metadata": {},
   "outputs": [],
   "source": [
    "import pandas as pd"
   ]
  },
  {
   "cell_type": "code",
   "execution_count": 2,
   "metadata": {},
   "outputs": [],
   "source": [
    "\n",
    "\n",
    "def developer_reviews_analysis(developer: str) -> dict:\n",
    "    # Leer los DataFrames desde los archivos parquet\n",
    "    df_games = pd.read_parquet(\n",
    "        'C:/Users/Edgar/OneDrive/Escritorio/ProyectoFinal1HenryNuevo/ArchivosFinales/dfgamesrecomendacion.parquet', \n",
    "        columns=['item_id', 'developer'],\n",
    "        engine='pyarrow'\n",
    "    )\n",
    "    df_user_reviews = pd.read_parquet(\n",
    "        'C:/Users/Edgar/OneDrive/Escritorio/ProyectoFinal1HenryNuevo/ArchivosFinales/dfreviews.parquet', \n",
    "        columns=['user_id', 'item_id','sentiment_analisis'],\n",
    "        engine='pyarrow'\n",
    "    )\n",
    "    \n",
    "    # Convertir las columnas 'item_id' a tipo int64\n",
    "    df_games['item_id'] = df_games['item_id'].astype('int64')\n",
    "    df_user_reviews['item_id'] = df_user_reviews['item_id'].astype('int64')\n",
    "    \n",
    "    # Unir los DataFrames en base a la columna 'item_id'\n",
    "    merged_df = pd.merge(df_user_reviews, df_games, on='item_id')\n",
    "    \n",
    "    # Filtrar las filas relevantes para el desarrollador proporcionado\n",
    "    developer_data = merged_df[merged_df['developer'] == developer]\n",
    "    \n",
    "    # Contar las reseñas con análisis de sentimiento positivo y negativo\n",
    "    positive_reviews = developer_data[developer_data['sentiment_analisis'] > 0].shape[0]\n",
    "    negative_reviews = developer_data[developer_data['sentiment_analisis'] <= 0].shape[0]\n",
    "    \n",
    "    # Crear el diccionario de retorno\n",
    "    result = {developer: {'Negative': negative_reviews, 'Positive': positive_reviews}}\n",
    "    \n",
    "    return result\n",
    "\n"
   ]
  },
  {
   "cell_type": "code",
   "execution_count": 5,
   "metadata": {},
   "outputs": [
    {
     "name": "stdout",
     "output_type": "stream",
     "text": [
      "{'Poppermost Productions': {'Negative': 20, 'Positive': 580}}\n"
     ]
    }
   ],
   "source": [
    "\n",
    "# Ejemplo de uso\n",
    "developer_example = \"Poppermost Productions\"\n",
    "print(developer_reviews_analysis(developer_example))"
   ]
  },
  {
   "cell_type": "code",
   "execution_count": null,
   "metadata": {},
   "outputs": [],
   "source": []
  }
 ],
 "metadata": {
  "kernelspec": {
   "display_name": "Python 3",
   "language": "python",
   "name": "python3"
  },
  "language_info": {
   "codemirror_mode": {
    "name": "ipython",
    "version": 3
   },
   "file_extension": ".py",
   "mimetype": "text/x-python",
   "name": "python",
   "nbconvert_exporter": "python",
   "pygments_lexer": "ipython3",
   "version": "3.10.0"
  }
 },
 "nbformat": 4,
 "nbformat_minor": 2
}
