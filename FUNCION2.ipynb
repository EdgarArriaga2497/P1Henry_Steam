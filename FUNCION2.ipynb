{
 "cells": [
  {
   "cell_type": "markdown",
   "metadata": {},
   "source": [
    "## FUNCION 2\n",
    " + def **userdata( *`User_id` : str* )**:\n",
    "    Debe devolver `cantidad` de dinero gastado por el usuario, el `porcentaje` de recomendación en base a reviews.recommend y `cantidad de items`.\n",
    "\n",
    "Ejemplo de retorno: {\"Usuario X\" : us213ndjss09sdf, \"Dinero gastado\": 200 USD, \"% de recomendación\": 20%, \"cantidad de items\": 5}"
   ]
  },
  {
   "cell_type": "code",
   "execution_count": 3,
   "metadata": {},
   "outputs": [],
   "source": [
    "import pandas as pd"
   ]
  },
  {
   "cell_type": "code",
   "execution_count": 2,
   "metadata": {},
   "outputs": [],
   "source": [
    "# Read the data files\n",
    "df_games = pd.read_parquet('C:/Users/Edgar/OneDrive/Escritorio/ProyectoFinal1HenryNuevo/ArchivosFinales/dfgamesrecomendacion.parquet', engine='pyarrow')\n",
    "df_user_reviews = pd.read_parquet('C:/Users/Edgar/OneDrive/Escritorio/ProyectoFinal1HenryNuevo/ArchivosFinales/dfreviews.parquet', engine='pyarrow')"
   ]
  },
  {
   "cell_type": "code",
   "execution_count": 5,
   "metadata": {},
   "outputs": [],
   "source": [
    "import pandas as pd\n",
    "\n",
    "def userdata(user_id: str) -> dict:\n",
    "   \n",
    "    # Convertir las columnas 'item_id' a tipo int64\n",
    "    df_games['item_id'] = df_games['item_id'].astype('str')\n",
    "    df_user_reviews['item_id'] = df_user_reviews['item_id'].astype('str')\n",
    "    \n",
    "    # Unir los DataFrames en base a la columna 'item_id'\n",
    "    merged_df = pd.merge(df_user_reviews, df_games, on='item_id')\n",
    "    \n",
    "    # Filtrar las filas relevantes para el 'user_id' proporcionado\n",
    "    user_data = merged_df[merged_df['user_id'] == user_id]\n",
    "    \n",
    "    # Calcular la cantidad de dinero gastado\n",
    "    total_money_spent = user_data['price'].sum()\n",
    "    \n",
    "    # Calcular el porcentaje de recomendación\n",
    "    total_reviews = user_data.shape[0]\n",
    "    if total_reviews > 0:\n",
    "        recommendation_percentage = (user_data['recommend'].sum() / total_reviews) * 100\n",
    "    else:\n",
    "        recommendation_percentage = 0\n",
    "    \n",
    "    # Calcular la cantidad de items\n",
    "    total_items = user_data['item_id'].nunique()\n",
    "    \n",
    "    # Crear el diccionario de retorno\n",
    "    result = {\n",
    "        \"Usuario\": user_id,\n",
    "        \"Dinero gastado\": f\"{total_money_spent:.2f} USD\",\n",
    "        \"% de recomendación\": f\"{recommendation_percentage:.2f}%\",\n",
    "        \"cantidad de items\": total_items\n",
    "    }\n",
    "    \n",
    "    return result\n",
    "\n",
    "# Ejemplo de uso\n",
    "# user_id_example = \"us213ndjss09sdf\"\n",
    "# print(userdata(user_id_example))\n"
   ]
  },
  {
   "cell_type": "code",
   "execution_count": 6,
   "metadata": {},
   "outputs": [
    {
     "name": "stdout",
     "output_type": "stream",
     "text": [
      "{'Usuario': 'js41637', 'Dinero gastado': '599.60 USD', '% de recomendación': '100.00%', 'cantidad de items': 2}\n"
     ]
    }
   ],
   "source": [
    "# Ejemplo de uso\n",
    "user_id_example = \"js41637\"\n",
    "print(userdata(user_id_example))"
   ]
  },
  {
   "cell_type": "code",
   "execution_count": 16,
   "metadata": {},
   "outputs": [
    {
     "name": "stdout",
     "output_type": "stream",
     "text": [
      "{'Usuario': 'evcentric', 'Dinero gastado': '1233.00 USD', '% de recomendación': '100.00%', 'cantidad de items': 6}\n"
     ]
    }
   ],
   "source": [
    "\n",
    "user_id_example = \"evcentric\"\n",
    "print(userdata(user_id_example))"
   ]
  }
 ],
 "metadata": {
  "kernelspec": {
   "display_name": "Python 3",
   "language": "python",
   "name": "python3"
  },
  "language_info": {
   "codemirror_mode": {
    "name": "ipython",
    "version": 3
   },
   "file_extension": ".py",
   "mimetype": "text/x-python",
   "name": "python",
   "nbconvert_exporter": "python",
   "pygments_lexer": "ipython3",
   "version": "3.11.9"
  }
 },
 "nbformat": 4,
 "nbformat_minor": 2
}
