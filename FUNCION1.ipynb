{
 "cells": [
  {
   "cell_type": "markdown",
   "metadata": {},
   "source": [
    "# Funciones de api Edgar Arriaga\n",
    "\n",
    "**`Desarrollo API`**:   Propones disponibilizar los datos de la empresa usando el framework ***FastAPI***. Las consultas que propones son las siguientes:\n",
    "\n",
    "<sub> Debes crear las siguientes funciones para los endpoints que se consumirán en la API, recuerden que deben tener un decorador por cada una (@app.get(‘/’)).<sub/>\n",
    "\n",
    "\n",
    "+ def **developer( *`desarrollador` : str* )**:\n",
    "    `Cantidad` de items y `porcentaje` de contenido Free por año según empresa desarrolladora. \n",
    "Ejemplo de retorno:\n",
    "\n",
    "| Año  | Cantidad de Items | Contenido Free  |\n",
    "|------|-------------------|------------------|\n",
    "| 2023 | 50                | 27%              |\n",
    "| 2022 | 45                | 25%              |\n",
    "| xxxx | xx                | xx%              |"
   ]
  },
  {
   "cell_type": "code",
   "execution_count": 1,
   "metadata": {},
   "outputs": [],
   "source": [
    "import pandas as pd\n",
    "import streamlit as st"
   ]
  },
  {
   "cell_type": "code",
   "execution_count": 3,
   "metadata": {},
   "outputs": [],
   "source": [
    "# Read the data files\n",
    "df_games = pd.read_parquet('dfgamesrecomendacionAPI.parquet', engine='pyarrow')"
   ]
  },
  {
   "cell_type": "code",
   "execution_count": 4,
   "metadata": {},
   "outputs": [],
   "source": [
    "\n",
    "df_games['developer'] = df_games['developer'].astype(str)"
   ]
  },
  {
   "cell_type": "code",
   "execution_count": 5,
   "metadata": {},
   "outputs": [
    {
     "name": "stdout",
     "output_type": "stream",
     "text": [
      "<class 'pandas.core.frame.DataFrame'>\n",
      "Index: 15088 entries, 24777 to 43874\n",
      "Data columns (total 7 columns):\n",
      " #   Column        Non-Null Count  Dtype  \n",
      "---  ------        --------------  -----  \n",
      " 0   item_id       15088 non-null  int64  \n",
      " 1   app_name      15088 non-null  object \n",
      " 2   title         15088 non-null  object \n",
      " 3   genres        15088 non-null  object \n",
      " 4   release_date  15088 non-null  object \n",
      " 5   developer     15088 non-null  object \n",
      " 6   price         15088 non-null  float64\n",
      "dtypes: float64(1), int64(1), object(5)\n",
      "memory usage: 943.0+ KB\n"
     ]
    }
   ],
   "source": [
    "df_games.info()"
   ]
  },
  {
   "cell_type": "code",
   "execution_count": 6,
   "metadata": {},
   "outputs": [
    {
     "data": {
      "text/html": [
       "<div>\n",
       "<style scoped>\n",
       "    .dataframe tbody tr th:only-of-type {\n",
       "        vertical-align: middle;\n",
       "    }\n",
       "\n",
       "    .dataframe tbody tr th {\n",
       "        vertical-align: top;\n",
       "    }\n",
       "\n",
       "    .dataframe thead th {\n",
       "        text-align: right;\n",
       "    }\n",
       "</style>\n",
       "<table border=\"1\" class=\"dataframe\">\n",
       "  <thead>\n",
       "    <tr style=\"text-align: right;\">\n",
       "      <th></th>\n",
       "      <th>item_id</th>\n",
       "      <th>app_name</th>\n",
       "      <th>title</th>\n",
       "      <th>genres</th>\n",
       "      <th>release_date</th>\n",
       "      <th>developer</th>\n",
       "      <th>price</th>\n",
       "    </tr>\n",
       "  </thead>\n",
       "  <tbody>\n",
       "    <tr>\n",
       "      <th>24777</th>\n",
       "      <td>384550</td>\n",
       "      <td>Painters Guild</td>\n",
       "      <td>Painters Guild</td>\n",
       "      <td>Management</td>\n",
       "      <td>2015</td>\n",
       "      <td>Lucas Molina</td>\n",
       "      <td>9.99</td>\n",
       "    </tr>\n",
       "    <tr>\n",
       "      <th>30485</th>\n",
       "      <td>420440</td>\n",
       "      <td>Atlantic Fleet</td>\n",
       "      <td>Atlantic Fleet</td>\n",
       "      <td>World War II</td>\n",
       "      <td>2016</td>\n",
       "      <td>Killerfish Games</td>\n",
       "      <td>9.99</td>\n",
       "    </tr>\n",
       "    <tr>\n",
       "      <th>102783</th>\n",
       "      <td>463100</td>\n",
       "      <td>Liveza: Death of the Earth</td>\n",
       "      <td>Liveza: Death of the Earth</td>\n",
       "      <td>Platformer</td>\n",
       "      <td>2016</td>\n",
       "      <td>Nikita Nefedov</td>\n",
       "      <td>2.99</td>\n",
       "    </tr>\n",
       "    <tr>\n",
       "      <th>74512</th>\n",
       "      <td>506500</td>\n",
       "      <td>Party Panic</td>\n",
       "      <td>Party Panic</td>\n",
       "      <td>Action</td>\n",
       "      <td>2017</td>\n",
       "      <td>Everglow Interactive Inc.</td>\n",
       "      <td>16.99</td>\n",
       "    </tr>\n",
       "    <tr>\n",
       "      <th>121124</th>\n",
       "      <td>366610</td>\n",
       "      <td>Not without my donuts</td>\n",
       "      <td>Not without my donuts</td>\n",
       "      <td>Adventure</td>\n",
       "      <td>2015</td>\n",
       "      <td>Ben Aprigliano,Stefan Evers</td>\n",
       "      <td>3.99</td>\n",
       "    </tr>\n",
       "    <tr>\n",
       "      <th>...</th>\n",
       "      <td>...</td>\n",
       "      <td>...</td>\n",
       "      <td>...</td>\n",
       "      <td>...</td>\n",
       "      <td>...</td>\n",
       "      <td>...</td>\n",
       "      <td>...</td>\n",
       "    </tr>\n",
       "    <tr>\n",
       "      <th>39105</th>\n",
       "      <td>497780</td>\n",
       "      <td>Recursed</td>\n",
       "      <td>Recursed</td>\n",
       "      <td>Female Protagonist</td>\n",
       "      <td>2016</td>\n",
       "      <td>Portponky</td>\n",
       "      <td>7.99</td>\n",
       "    </tr>\n",
       "    <tr>\n",
       "      <th>123533</th>\n",
       "      <td>328760</td>\n",
       "      <td>SanctuaryRPG: Black Edition</td>\n",
       "      <td>SanctuaryRPG: Black Edition</td>\n",
       "      <td>RPG</td>\n",
       "      <td>2015</td>\n",
       "      <td>Black Shell Games</td>\n",
       "      <td>7.99</td>\n",
       "    </tr>\n",
       "    <tr>\n",
       "      <th>4198</th>\n",
       "      <td>71160</td>\n",
       "      <td>Shining Force II</td>\n",
       "      <td>Shining Force II</td>\n",
       "      <td>Classic</td>\n",
       "      <td>2011</td>\n",
       "      <td>SEGA</td>\n",
       "      <td>2.99</td>\n",
       "    </tr>\n",
       "    <tr>\n",
       "      <th>12328</th>\n",
       "      <td>297570</td>\n",
       "      <td>Warrior Kings</td>\n",
       "      <td>Warrior Kings</td>\n",
       "      <td>RTS</td>\n",
       "      <td>2002</td>\n",
       "      <td>Black Cactus</td>\n",
       "      <td>9.99</td>\n",
       "    </tr>\n",
       "    <tr>\n",
       "      <th>43874</th>\n",
       "      <td>528430</td>\n",
       "      <td>Wells</td>\n",
       "      <td>Wells</td>\n",
       "      <td>Great Soundtrack</td>\n",
       "      <td>2017</td>\n",
       "      <td>Tower Up Studios</td>\n",
       "      <td>3.99</td>\n",
       "    </tr>\n",
       "  </tbody>\n",
       "</table>\n",
       "<p>15088 rows × 7 columns</p>\n",
       "</div>"
      ],
      "text/plain": [
       "        item_id                     app_name                        title  \\\n",
       "24777    384550               Painters Guild               Painters Guild   \n",
       "30485    420440               Atlantic Fleet               Atlantic Fleet   \n",
       "102783   463100   Liveza: Death of the Earth   Liveza: Death of the Earth   \n",
       "74512    506500                  Party Panic                  Party Panic   \n",
       "121124   366610        Not without my donuts        Not without my donuts   \n",
       "...         ...                          ...                          ...   \n",
       "39105    497780                     Recursed                     Recursed   \n",
       "123533   328760  SanctuaryRPG: Black Edition  SanctuaryRPG: Black Edition   \n",
       "4198      71160             Shining Force II             Shining Force II   \n",
       "12328    297570                Warrior Kings                Warrior Kings   \n",
       "43874    528430                        Wells                        Wells   \n",
       "\n",
       "                    genres release_date                    developer  price  \n",
       "24777           Management         2015                 Lucas Molina   9.99  \n",
       "30485         World War II         2016             Killerfish Games   9.99  \n",
       "102783          Platformer         2016               Nikita Nefedov   2.99  \n",
       "74512               Action         2017    Everglow Interactive Inc.  16.99  \n",
       "121124           Adventure         2015  Ben Aprigliano,Stefan Evers   3.99  \n",
       "...                    ...          ...                          ...    ...  \n",
       "39105   Female Protagonist         2016                    Portponky   7.99  \n",
       "123533                 RPG         2015            Black Shell Games   7.99  \n",
       "4198               Classic         2011                         SEGA   2.99  \n",
       "12328                  RTS         2002                 Black Cactus   9.99  \n",
       "43874     Great Soundtrack         2017             Tower Up Studios   3.99  \n",
       "\n",
       "[15088 rows x 7 columns]"
      ]
     },
     "execution_count": 6,
     "metadata": {},
     "output_type": "execute_result"
    }
   ],
   "source": [
    "df_games"
   ]
  },
  {
   "cell_type": "code",
   "execution_count": 7,
   "metadata": {},
   "outputs": [
    {
     "name": "stdout",
     "output_type": "stream",
     "text": [
      "    Año  Cantidad de Items  Contenido Free\n",
      "0  2018                  1             0.0\n"
     ]
    }
   ],
   "source": [
    "\n",
    "# Añadir una columna 'is_free' que sea True si el precio es 0, False en caso contrario\n",
    "df_games['is_free'] = df_games['price'] == 0.0\n",
    "\n",
    "# Convertir la columna 'developer' a tipo string\n",
    "df_games['developer'] = df_games['developer'].astype(str)\n",
    "\n",
    "# Función para obtener los datos requeridos\n",
    "def get_developer_data(developer: str):\n",
    "    df_dev = df_games[df_games['developer'].str.contains(developer, case=False, na=False)]\n",
    "    \n",
    "    result = df_dev.groupby('release_date').agg(\n",
    "        cantidad_items=('item_id', 'count'),\n",
    "        contenido_free=('is_free', lambda x: 100 * x.sum() / x.count())\n",
    "    ).reset_index().rename(columns={'release_date': 'Año', 'cantidad_items': 'Cantidad de Items', 'contenido_free': 'Contenido Free'})\n",
    "    \n",
    "    return result\n",
    "\n",
    "\n",
    "# ya quedo la funcion \n",
    "# Obtener los datos para el desarrollador 'Kotoshiro'\n",
    "developer_name = \"Kotoshiro\"\n",
    "developer_data = get_developer_data(developer_name)\n",
    "\n",
    "# Imprimir los resultados\n",
    "print(developer_data)\n"
   ]
  },
  {
   "cell_type": "code",
   "execution_count": 8,
   "metadata": {},
   "outputs": [
    {
     "name": "stdout",
     "output_type": "stream",
     "text": [
      "    Año  Cantidad de Items  Contenido Free\n",
      "0  2015                  2           100.0\n"
     ]
    }
   ],
   "source": [
    "## para alguno que tiene contenido free\n",
    "developer_name = \"XLGAMES\"\n",
    "developer_data = get_developer_data(developer_name)\n",
    "\n",
    "# Imprimir los resultados\n",
    "print(developer_data)"
   ]
  },
  {
   "cell_type": "code",
   "execution_count": null,
   "metadata": {},
   "outputs": [],
   "source": [
    "import streamlit as st\n",
    "\n",
    "st.title('Funcione 1')"
   ]
  },
  {
   "cell_type": "code",
   "execution_count": 11,
   "metadata": {},
   "outputs": [
    {
     "name": "stdout",
     "output_type": "stream",
     "text": [
      "    Año  Cantidad de Items  Contenido Free\n",
      "0  2018                  1             0.0\n"
     ]
    }
   ],
   "source": [
    "# Obtener los datos para el desarrollador 'Kotoshiro'\n",
    "developer_name = \"Kotoshiro\"\n",
    "developer_data = get_developer_data(developer_name)\n",
    "\n",
    "# Imprimir los resultados\n",
    "print(developer_data)"
   ]
  },
  {
   "cell_type": "markdown",
   "metadata": {},
   "source": [
    "## ya para la API. "
   ]
  },
  {
   "cell_type": "code",
   "execution_count": null,
   "metadata": {},
   "outputs": [],
   "source": [
    "import pandas as pd\n",
    "import streamlit as st\n",
    "\n",
    "# Cargar los datos\n",
    "df_games = pd.read_parquet('C:/Users/Edgar/OneDrive/Escritorio/ProyectoFinal1HenryNuevo/ArchivosFinales/dfgamesrecomendacion.parquet', engine='pyarrow')\n",
    "\n",
    "# Añadir una columna 'is_free' que sea True si el precio es 0, False en caso contrario\n",
    "df_games['is_free'] = df_games['price'] == 0.0\n",
    "\n",
    "# Convertir la columna 'developer' a tipo string\n",
    "df_games['developer'] = df_games['developer'].astype(str)\n",
    "\n",
    "# Función para obtener los datos requeridos\n",
    "def get_developer_data(developer: str):\n",
    "    df_dev = df_games[df_games['developer'].str.contains(developer, case=False, na=False)]\n",
    "    \n",
    "    result = df_dev.groupby('release_date').agg(\n",
    "        cantidad_items=('item_id', 'count'),\n",
    "        contenido_free=('is_free', lambda x: 100 * x.sum() / x.count())\n",
    "    ).reset_index().rename(columns={'release_date': 'Año', 'cantidad_items': 'Cantidad de Items', 'contenido_free': 'Contenido Free'})\n",
    "    \n",
    "    return result\n",
    "\n",
    "# Crear la interfaz de usuario en Streamlit\n",
    "st.title('Funcione 1')\n",
    "st.markdown('## **`Desarrollo API`**:   Propones disponibilizar los datos de la empresa usando el framework ***FastAPI***. Las consultas que propones son las siguientes:')\n",
    "st.markdown('<sub> Debes crear las siguientes funciones para los endpoints que se consumirán en la API, recuerden que deben tener un decorador por cada una (@app.get(‘/’)).<sub/>', unsafe_allow_html=True)\n",
    "\n",
    "st.markdown('''\n",
    "+ def **developer( *`desarrollador` : str* )**:\n",
    "    `Cantidad` de items y `porcentaje` de contenido Free por año según empresa desarrolladora. \n",
    "Ejemplo de retorno:\n",
    "\n",
    "| Año  | Cantidad de Items | Contenido Free  |\n",
    "|------|-------------------|------------------|\n",
    "| 2023 | 50                | 27%              |\n",
    "| 2022 | 45                | 25%              |\n",
    "| xxxx | xx                | xx%              |\n",
    "''')\n",
    "\n",
    "# Input para el nombre del desarrollador\n",
    "developer_name = st.text_input('Introduce el nombre del desarrollador:')\n",
    "\n",
    "# Mostrar resultados cuando se proporciona un nombre de desarrollador\n",
    "if developer_name:\n",
    "    developer_data = get_developer_data(developer_name)\n",
    "    st.write(developer_data)\n"
   ]
  },
  {
   "cell_type": "code",
   "execution_count": null,
   "metadata": {},
   "outputs": [],
   "source": []
  }
 ],
 "metadata": {
  "kernelspec": {
   "display_name": "Python 3",
   "language": "python",
   "name": "python3"
  },
  "language_info": {
   "codemirror_mode": {
    "name": "ipython",
    "version": 3
   },
   "file_extension": ".py",
   "mimetype": "text/x-python",
   "name": "python",
   "nbconvert_exporter": "python",
   "pygments_lexer": "ipython3",
   "version": "3.11.9"
  }
 },
 "nbformat": 4,
 "nbformat_minor": 2
}
