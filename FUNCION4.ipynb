{
 "cells": [
  {
   "cell_type": "markdown",
   "metadata": {},
   "source": [
    "### 4.-  + def **best_developer_year( *`año` : int* )**:\n",
    "   Devuelve el top 3 de desarrolladores con juegos MÁS recomendados por usuarios para el año dado. (reviews.recommend = True y comentarios positivos)\n",
    "  \n",
    "Ejemplo de retorno: [{\"Puesto 1\" : X}, {\"Puesto 2\" : Y},{\"Puesto 3\" : Z}]"
   ]
  },
  {
   "cell_type": "code",
   "execution_count": 1,
   "metadata": {},
   "outputs": [],
   "source": [
    "import pandas as pd"
   ]
  },
  {
   "cell_type": "code",
   "execution_count": 5,
   "metadata": {},
   "outputs": [],
   "source": [
    "import pandas as pd\n",
    "\n",
    "def best_developer_year(year: int) -> list:\n",
    "    # Leer los DataFrames desde los archivos parquet, solo con las columnas necesarias\n",
    "    df_games = pd.read_parquet(\n",
    "        'C:/Users/Edgar/OneDrive/Escritorio/ProyectoFinal1HenryNuevo/ArchivosFinales/dfgamesrecomendacion.parquet', \n",
    "        columns=['item_id', 'developer'],\n",
    "        engine='pyarrow'\n",
    "    )\n",
    "    df_user_reviews = pd.read_parquet(\n",
    "        'C:/Users/Edgar/OneDrive/Escritorio/ProyectoFinal1HenryNuevo/ArchivosFinales/dfreviews.parquet', \n",
    "        columns=['item_id', 'year', 'recommend', 'sentiment_analisis'],\n",
    "        engine='pyarrow'\n",
    "    )\n",
    "    # Convertir las columnas 'item_id' a tipo int64\n",
    "    df_games['item_id'] = df_games['item_id'].astype('int64')\n",
    "    df_user_reviews['item_id'] = df_user_reviews['item_id'].astype('int64')\n",
    "    \n",
    "    # Unir los DataFrames en base a la columna 'item_id'\n",
    "    merged_df = pd.merge(df_user_reviews, df_games, on='item_id')\n",
    "    \n",
    "    # Filtrar las filas relevantes para el año proporcionado\n",
    "    year_str = str(year)  # Asegurar que el año esté en formato string\n",
    "    year_data = merged_df[merged_df['year'] == year_str]\n",
    "    \n",
    "    # Filtrar las reviews recomendadas y con comentarios positivos\n",
    "    positive_recommendations = year_data[(year_data['recommend'] == True) & (year_data['sentiment_analisis'] > 0)]\n",
    "    \n",
    "    # Contar las recomendaciones por cada desarrollador\n",
    "    developer_recommendations = positive_recommendations['developer'].value_counts()\n",
    "    \n",
    "    # Seleccionar los top 3 desarrolladores\n",
    "    top_3_developers = developer_recommendations.head(3).index.tolist()\n",
    "    \n",
    "    # Crear la lista de resultados\n",
    "    result = [{\"Puesto 1\": top_3_developers[0]}, {\"Puesto 2\": top_3_developers[1]}, {\"Puesto 3\": top_3_developers[2]}]\n",
    "    \n",
    "    return result\n",
    "    \n",
    "    "
   ]
  },
  {
   "cell_type": "code",
   "execution_count": 9,
   "metadata": {},
   "outputs": [
    {
     "ename": "NameError",
     "evalue": "name 'df_user_reviews' is not defined",
     "output_type": "error",
     "traceback": [
      "\u001b[1;31m---------------------------------------------------------------------------\u001b[0m",
      "\u001b[1;31mNameError\u001b[0m                                 Traceback (most recent call last)",
      "Cell \u001b[1;32mIn[9], line 2\u001b[0m\n\u001b[0;32m      1\u001b[0m \u001b[38;5;66;03m# Obtener los valores únicos de la columna 'year'\u001b[39;00m\n\u001b[1;32m----> 2\u001b[0m unique_years \u001b[38;5;241m=\u001b[39m \u001b[43mdf_user_reviews\u001b[49m[\u001b[38;5;124m'\u001b[39m\u001b[38;5;124myear\u001b[39m\u001b[38;5;124m'\u001b[39m]\u001b[38;5;241m.\u001b[39munique()\n",
      "\u001b[1;31mNameError\u001b[0m: name 'df_user_reviews' is not defined"
     ]
    }
   ],
   "source": [
    "# Años que se pueden hacer.\n",
    "# array(['2018', '2017', '1997', '1998', '2016', '2006', '2005', '2003',\n",
    "     #  '2007', '2002', '2000', '1995', '1996', '1994', '2001', '1993',\n",
    "      # '2004', '2008', '2009', '1999', '1992', '1989', '2010', '2011',\n",
    "       #'2013', '2012', '2014', '1983', '1984', '2015', '1990', '1988',\n",
    "       #'1991', '1987', '1986', '2021', '2019', '1985'], dtype=object)"
   ]
  },
  {
   "cell_type": "code",
   "execution_count": 6,
   "metadata": {},
   "outputs": [
    {
     "name": "stdout",
     "output_type": "stream",
     "text": [
      "[{'Puesto 1': 'Valve'}, {'Puesto 2': 'Re-Logic'}, {'Puesto 3': 'Tripwire Interactive'}]\n"
     ]
    }
   ],
   "source": [
    "# Ejemplo de uso\n",
    "year_example = 2011\n",
    "print(best_developer_year(year_example))\n"
   ]
  },
  {
   "cell_type": "code",
   "execution_count": 7,
   "metadata": {},
   "outputs": [
    {
     "name": "stdout",
     "output_type": "stream",
     "text": [
      "[{'Puesto 1': 'Valve'}, {'Puesto 2': 'Facepunch Studios'}, {'Puesto 3': 'Smartly Dressed Games'}]\n"
     ]
    }
   ],
   "source": [
    "year_example = 2014\n",
    "print(best_developer_year(year_example))\n"
   ]
  }
 ],
 "metadata": {
  "kernelspec": {
   "display_name": "Python 3",
   "language": "python",
   "name": "python3"
  },
  "language_info": {
   "codemirror_mode": {
    "name": "ipython",
    "version": 3
   },
   "file_extension": ".py",
   "mimetype": "text/x-python",
   "name": "python",
   "nbconvert_exporter": "python",
   "pygments_lexer": "ipython3",
   "version": "3.11.9"
  }
 },
 "nbformat": 4,
 "nbformat_minor": 2
}
